{
 "cells": [
  {
   "cell_type": "code",
   "execution_count": 1,
   "metadata": {},
   "outputs": [],
   "source": [
    "import networkx as nx \n",
    "import matplotlib.pyplot as plt \n",
    "from copy import deepcopy\n",
    "import numpy as np"
   ]
  },
  {
   "cell_type": "code",
   "execution_count": 2,
   "metadata": {},
   "outputs": [],
   "source": [
    "def open_file(i):\n",
    "    filepath = 'input/in' +str(i)+ '.txt'\n",
    "    adj_list=[]\n",
    "    with open(filepath, 'r') as fp:\n",
    "        line = fp.readline()\n",
    "        while line:\n",
    "            tmpList=(line[:-1].split(' '))\n",
    "            tmpList=[int(i) for i in tmpList]\n",
    "            adj_list.append(tmpList)\n",
    "            line = fp.readline()\n",
    "\n",
    "    adj_dict_org={}\n",
    "    for i in adj_list:\n",
    "        adj_dict_org[i[0]]=i[1:]\n",
    "\n",
    "\n",
    "    edges=[]\n",
    "    for i in adj_list:\n",
    "        for j in i[1:]:\n",
    "            if tuple((i[0],j)) not in edges and tuple((j,i[0])) not in edges:\n",
    "                edges.append(tuple((i[0],j)))\n",
    "    return adj_dict_org, edges"
   ]
  },
  {
   "cell_type": "code",
   "execution_count": 3,
   "metadata": {},
   "outputs": [],
   "source": [
    " def euler_tour(adj_dict):\n",
    "    for i in adj_dict.keys():\n",
    "        if len(adj_dict[i]) % 2 != 0:\n",
    "            return None\n",
    "    T=[]\n",
    "    L=[1]\n",
    "    while len(L)!=0:\n",
    "        u=L.pop(0)\n",
    "        C,L, adj_dict=visit(u,L,adj_dict)\n",
    "        try:\n",
    "            location_in_T=T.index(u)\n",
    "            T=T[:location_in_T]+C+T[location_in_T:]\n",
    "\n",
    "        except ValueError:\n",
    "            C.append(C[0])\n",
    "            T=C\n",
    "\n",
    "    return T\n",
    "\n",
    "def visit (u,L ,adj_dict):\n",
    "    C=[]\n",
    "    while len(adj_dict[u])>0:\n",
    "        w=adj_dict[u].pop(-1)\n",
    "        adj_dict[w].remove(u)\n",
    "        C.append(u)\n",
    "        if len(adj_dict[u])>0:\n",
    "            L.append(u)\n",
    "        u=w\n",
    "    return C,L, adj_dict"
   ]
  },
  {
   "cell_type": "code",
   "execution_count": 4,
   "metadata": {},
   "outputs": [],
   "source": [
    "def check_correctness(_edges, path):\n",
    "    edges=deepcopy(_edges)\n",
    "    if path != None:\n",
    "        #print (path)\n",
    "        for i in range(len(path)-1):\n",
    "            if tuple((path[i],path[i+1])) not in edges and tuple((path[i+1],path[i])) not in edges:\n",
    "                raise Exception(\"Euler tour incorrect. Edge(\",(path[i],path[i+1]) ,\")not correct for\", path, _edges)\n",
    "                return 0\n",
    "            else: \n",
    "                try:\n",
    "                    edges.remove(tuple((path[i],path[i+1])))\n",
    "                except ValueError:\n",
    "                    edges.remove(tuple((path[i+1],path[i])))\n",
    "        if len(edges) !=0:\n",
    "            raise Exception(\"Euler tour incorrect. Remaing edges are\", edges)\n",
    "    #else:\n",
    "        #print(\"No euler tour\")\n",
    "    return path\n",
    "   "
   ]
  },
  {
   "cell_type": "code",
   "execution_count": 5,
   "metadata": {},
   "outputs": [],
   "source": [
    "def test(graph_flag, samples):\n",
    "    for f in range(1,6):\n",
    "        print(\"Testing in\", f)\n",
    "        adj_dict_org, edges=open_file(f)\n",
    "        if graph_flag:\n",
    "            G = nx.Graph() \n",
    "            G.add_edges_from(edges) \n",
    "            nx.draw_networkx(G) \n",
    "            plt.show()\n",
    "        for i in range(samples):\n",
    "            adj_dict=deepcopy(adj_dict_org)\n",
    "            path=euler_tour(adj_dict)\n",
    "            path=check_correctness(edges,path)\n",
    "            #if path==None: break\n"
   ]
  },
  {
   "cell_type": "code",
   "execution_count": 24,
   "metadata": {},
   "outputs": [
    {
     "name": "stdout",
     "output_type": "stream",
     "text": [
      "[1, 8, 12, 14, 13, 12, 11, 15, 10, 14, 11, 13, 3, 11, 10, 4, 9, 11, 7, 12, 5, 8, 4, 5, 7, 9, 2, 7, 6, 5, 3, 2, 6, 1, 5, 2, 1]\n"
     ]
    }
   ],
   "source": [
    "adj_dict_org, edges=open_file(5)\n",
    "T=euler_tour(adj_dict_org)\n",
    "print(T)"
   ]
  },
  {
   "cell_type": "code",
   "execution_count": 25,
   "metadata": {},
   "outputs": [],
   "source": [
    "lst=[1,2,5,1,6,2,3,5,6,7,2,9,7,5,4,8,5,12,7,11,9,4,10,11,3,13,11,14,10,15,11,12,13,14,12,8,1]\n",
    "l=[]\n",
    "for i in range (len(lst)):\n",
    "    l.append(lst[len(lst)-i-1])"
   ]
  },
  {
   "cell_type": "code",
   "execution_count": 26,
   "metadata": {},
   "outputs": [
    {
     "name": "stdout",
     "output_type": "stream",
     "text": [
      "0\n",
      "0\n",
      "0\n",
      "0\n",
      "0\n",
      "0\n",
      "0\n",
      "0\n",
      "0\n",
      "0\n",
      "0\n",
      "0\n",
      "0\n",
      "0\n",
      "0\n",
      "0\n",
      "0\n",
      "0\n",
      "0\n",
      "0\n",
      "0\n",
      "0\n",
      "0\n",
      "0\n",
      "0\n",
      "0\n",
      "0\n",
      "0\n",
      "0\n",
      "0\n",
      "0\n",
      "0\n",
      "0\n",
      "0\n",
      "0\n",
      "0\n",
      "0\n"
     ]
    }
   ],
   "source": [
    "for i in range (len(l)):\n",
    "    print(l[i]-T[i])"
   ]
  },
  {
   "cell_type": "code",
   "execution_count": 28,
   "metadata": {},
   "outputs": [
    {
     "ename": "TypeError",
     "evalue": "foo() takes 0 positional arguments but 2 were given",
     "output_type": "error",
     "traceback": [
      "\u001b[0;31m---------------------------------------------------------------------------\u001b[0m",
      "\u001b[0;31mTypeError\u001b[0m                                 Traceback (most recent call last)",
      "\u001b[0;32m<ipython-input-28-e0afa0cf23e4>\u001b[0m in \u001b[0;36m<module>\u001b[0;34m\u001b[0m\n\u001b[1;32m      3\u001b[0m     \u001b[0mb\u001b[0m \u001b[0;34m=\u001b[0m \u001b[0;36m2\u001b[0m\u001b[0;34m\u001b[0m\u001b[0;34m\u001b[0m\u001b[0m\n\u001b[1;32m      4\u001b[0m     \u001b[0;32mreturn\u001b[0m \u001b[0;34m(\u001b[0m\u001b[0ma\u001b[0m\u001b[0;34m,\u001b[0m \u001b[0mb\u001b[0m\u001b[0;34m)\u001b[0m\u001b[0;34m\u001b[0m\u001b[0;34m\u001b[0m\u001b[0m\n\u001b[0;32m----> 5\u001b[0;31m \u001b[0modd\u001b[0m\u001b[0;34m,\u001b[0m \u001b[0meven\u001b[0m \u001b[0;34m=\u001b[0m \u001b[0mfoo\u001b[0m\u001b[0;34m(\u001b[0m\u001b[0;34m[\u001b[0m\u001b[0;36m1\u001b[0m\u001b[0;34m,\u001b[0m\u001b[0;36m2\u001b[0m\u001b[0;34m,\u001b[0m\u001b[0;36m3\u001b[0m\u001b[0;34m,\u001b[0m\u001b[0;36m4\u001b[0m\u001b[0;34m,\u001b[0m\u001b[0;36m5\u001b[0m\u001b[0;34m,\u001b[0m\u001b[0;36m6\u001b[0m\u001b[0;34m]\u001b[0m\u001b[0;34m,\u001b[0m \u001b[0;32mlambda\u001b[0m \u001b[0mx\u001b[0m \u001b[0;34m:\u001b[0m \u001b[0mx\u001b[0m \u001b[0;34m%\u001b[0m \u001b[0;36m2\u001b[0m \u001b[0;34m==\u001b[0m \u001b[0;36m0\u001b[0m\u001b[0;34m)\u001b[0m\u001b[0;34m\u001b[0m\u001b[0;34m\u001b[0m\u001b[0m\n\u001b[0m",
      "\u001b[0;31mTypeError\u001b[0m: foo() takes 0 positional arguments but 2 were given"
     ]
    }
   ],
   "source": [
    "def foo():\n",
    "    a = 1\n",
    "    b = 2\n",
    "    return (a, b)\n",
    "odd, even = foo([1,2,3,4,5,6], lambda x : x % 2 == 0)\n"
   ]
  },
  {
   "cell_type": "code",
   "execution_count": null,
   "metadata": {},
   "outputs": [],
   "source": []
  }
 ],
 "metadata": {
  "kernelspec": {
   "display_name": "Python 3",
   "language": "python",
   "name": "python3"
  },
  "language_info": {
   "codemirror_mode": {
    "name": "ipython",
    "version": 3
   },
   "file_extension": ".py",
   "mimetype": "text/x-python",
   "name": "python",
   "nbconvert_exporter": "python",
   "pygments_lexer": "ipython3",
   "version": "3.8.5"
  }
 },
 "nbformat": 4,
 "nbformat_minor": 4
}
